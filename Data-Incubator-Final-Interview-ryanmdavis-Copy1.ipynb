{
 "cells": [
  {
   "cell_type": "markdown",
   "metadata": {},
   "source": [
    "# Welcome to the Jupyter Notebook describing the class BioTechTopics (BTT)!\n",
    "\n",
    "## Purpose: To enable biotech business professionals to quickly identify prominent individuals and companies in the life science industry"
   ]
  },
  {
   "cell_type": "code",
   "execution_count": 4,
   "metadata": {
    "scrolled": true
   },
   "outputs": [
    {
     "name": "stdout",
     "output_type": "stream",
     "text": [
      "\n",
      "Topics instance ready\n",
      "Corpus has 33884 documents\n"
     ]
    }
   ],
   "source": [
    "from BioTechTopics import Topics\n",
    "from plotBokehJpnb2 import plotBokehInJpnb\n",
    "import time\n",
    "\n",
    "# make instance of Topics object and load the data\n",
    "t=Topics()\n",
    "t.load() # unpickles LDA, tf, and tf-idf representations, puts text data from JSON into pandas dataframe \n",
    "#plotBokehInJpnb(t,'antibody')"
   ]
  },
  {
   "cell_type": "markdown",
   "metadata": {},
   "source": [
    "![Antibody](WWBT_antibody.png)\n",
    "\n",
    "# Section 1: Introduction & Contents\n",
    "#### Section: 2 How it works: \n",
    "BTT is trained on the entire 100 Mb corpus of biotech business articles from Fiercebiotech.com\n",
    "\n",
    "#### Section: 3 Performance:\n",
    "Query result is returned in about one second.\n",
    "\n",
    "#### Section: 4 Business takeaways:\n",
    "Digital health topics are gainining visibility and prominence in the life science business world.\n",
    "\n",
    "# Section 2: How BTT works\n",
    "#### Basic operation:\n",
    "BTT input: search query.\n",
    "\n",
    "Output: interactive scatterplot that identifies prominent individuals and companys related to query.\n",
    "\n",
    "Most code is wrapped up in the Topics class.  After creating an instance, tf-idf representations and TextRank keywords are loaded from JSON and pickle files using the load() function.  See the above for an example of this code.\n",
    "\n",
    "#### Step-by-step\n",
    "1) tf-idf is used to find documents related to query\n",
    "\n",
    "2) pandas is used to search a JSON file for pre-computed Named Entities of each document.  Named entities are only returned if they have in the top 50 percentile of TextRank score.  Call these TextRank-weighted named entities \"prominent entities\" \n",
    "\n",
    "3) Each prominent entity is given a score equal to (cosine similarity of document that entity is found in)*(TextRank score).  Top 200 are plotted in Bokeh.  The y-axis value is equal to the product of the TextRank and tf-idf scores.\n",
    "\n",
    "#### User experience\n",
    "I currently interact through this app using a Bokeh server.  The user can type in a query and see the results in real time (See below screen shot).  Soon this will be on Heroku.\n",
    "\n",
    "![Digital Pathology](WWBT_digital_path.png)"
   ]
  },
  {
   "cell_type": "markdown",
   "metadata": {},
   "source": [
    "# Section 3: Performance speed\n"
   ]
  },
  {
   "cell_type": "markdown",
   "metadata": {},
   "source": [
    "I pickled the tf-idf representation and threw all of the TextRank keywords into a JSON file (read with pandas) so that identification of prominent individuals could be done very quickly."
   ]
  },
  {
   "cell_type": "code",
   "execution_count": 5,
   "metadata": {},
   "outputs": [
    {
     "name": "stdout",
     "output_type": "stream",
     "text": [
      "Found 463 documents relevant to query \"antibody\"\n",
      "Query took 1.18653202057 seconds to execute\n",
      "Some hits:\n",
      "['tesaro conference call webcast', 'xoma ltd', 'stop kyprolis']\n"
     ]
    }
   ],
   "source": [
    "start = time.time()\n",
    "\n",
    "# these next two lines allow you submit a query to the algorithm\n",
    "t.ww2('antibody') # Who's who? function - does information retrieval\n",
    "data_scatter_dict = t.formatSearchResults(format='tfidf_tf_product',return_top_n=200) #user can format data in various ways\n",
    "end = time.time()\n",
    "print 'Query took ' + str(end-start) + ' seconds to execute'\n",
    "print 'Some hits:'\n",
    "print [str(data_scatter_dict['keywords'][x]) for x in [0,11,20]]"
   ]
  },
  {
   "cell_type": "markdown",
   "metadata": {},
   "source": [
    "Fast named entity return is possible because all NLP (TextRank, tfidf, named entity recognition) is done offline and stored in pickle or JSON format and loaded later.\n",
    "\n",
    "User can mouseover the scatterplot data to identify the named entity.\n",
    "\n",
    "User can track trends and named entities relevant to their query as a function of time.\n",
    "\n",
    "Key packages: Scikit-learn, pandas, nltk, Bokeh, Scrapy"
   ]
  },
  {
   "cell_type": "markdown",
   "metadata": {},
   "source": [
    "# Section 4: Business Take-away\n",
    "The below plot (bottom half) shows that digital health is gaining visibility and attention in the life science industry.  That plot shows for each year the sum of the cosine similarity between the phrase \"digital health\" and each document in that year, normalized to the total number of documents in that year.  Thus, the plot can be interpreted as showing that digital health is occuping more and more attention among life science business professionals.  This is therefore an exciting time for biomedical researchers with data-handling skills like myself!  I believe that my unique combination of programming and life science industry exposure would compound well with the additional training from the Data Incubator, resulting in a quick offer from one of the Data Incubator's partner companies after completing the program.\n",
    "\n",
    "Data points in the upper right quadrant include: \n",
    "\n",
    "IBM Watson: Health AI \n",
    "\n",
    "England's National Health Service: recently launched NHS Digital Academy, a health informatics training program \n",
    "\n",
    "Launchpad Digital Health: Incubator/VC for digital health companies"
   ]
  },
  {
   "cell_type": "code",
   "execution_count": 6,
   "metadata": {
    "collapsed": true
   },
   "outputs": [],
   "source": [
    "#plotBokehInJpnb(t,'digital health')"
   ]
  },
  {
   "cell_type": "markdown",
   "metadata": {},
   "source": [
    "![Digital Health](WWBT_digital_health.png)\n",
    "\n",
    "# Summary: Key Takaways\n",
    "## Performance (compared to semi-final)\n",
    "#### 1) BioTechTopics is faster: \n",
    "All keyword extraction, named entity recognition, and LDA is performed before hand and the results are pickled or put into JSON. This vastly speeds the process up so that NLP does not have to be done in real time.\n",
    "#### 2) BioTechTopics is bigger:\n",
    "Scrapy was used to scrape the entire fiercebiotech.com website , resulting in 99Mb of text data and 32,000 separate documents.\n",
    "#### 3) BioTechTopics is more user friendly:\n",
    "Interactive bokeh plots were implemented.\n",
    "## Business take-away\n",
    "#### 4) Digital health is consistently gaining attention in the life science industry"
   ]
  }
 ],
 "metadata": {
  "kernelspec": {
   "display_name": "ds_py27_env",
   "language": "python",
   "name": "ds_py27_env"
  },
  "language_info": {
   "codemirror_mode": {
    "name": "ipython",
    "version": 2
   },
   "file_extension": ".py",
   "mimetype": "text/x-python",
   "name": "python",
   "nbconvert_exporter": "python",
   "pygments_lexer": "ipython2",
   "version": "2.7.12"
  }
 },
 "nbformat": 4,
 "nbformat_minor": 2
}
