{
 "cells": [
  {
   "cell_type": "markdown",
   "metadata": {},
   "source": [
    "Welcome to the Jupyter Notebook describing BioTechTopics!  Here, I will show a brief introduction to the application."
   ]
  },
  {
   "cell_type": "code",
   "execution_count": 2,
   "metadata": {},
   "outputs": [
    {
     "name": "stdout",
     "output_type": "stream",
     "text": [
      "Reading corpus\n",
      "Corpus contains 2419 unique files\n",
      "Training Count Vectorizer\n",
      "Done training after 83.016782999 seconds\n",
      "Started training LDA model\n",
      "Finished training LDA model after 311.303784847 seconds\n",
      "Topic #0: hbv, benitec, cilengitide, iceni, synta, cartilage, madrigal, hall, patientslikeme, flutiform, bial, 102474, bia 102474, faah, biotrial, vitaeris, nantventures, purigen, ifosfamide, brintellix\n",
      "Topic #1: zymeworks, tpa, flexus, ideaya, oxstem, biodiscovery, ascentage, nxclinical, jazz, hata, acute ischemic, facteau, immunicum, senescent cells, proclara, essure, genfit, senescent, gender, cytoseq\n",
      "Topic #2: ptc, duchenne, arcturus, translarna, duchenne muscular, invasive, bmn, ataluren, fertility, xenoport, 270, procedures, sinus, surgeons, catheter, bmn 270, ptc therapeutics, drisapersen, minimally, ksq\n",
      "Topic #3: celator, vyxeos, p53, neos, t2, jazz, ganymed, lorlatinib, alk, claudin182, biomar, 4d, imab362, aptinyx, relizorb, annexon, stolpe, van stolpe, western oncolytics, hillrom\n",
      "Topic #4: cells, stem, stem cells, researchers, mice, proteins, promethera, embryos, mouse, excelra, sanger, donor, salk, genomes, cabl, akili, animas, sanger institute, tchelingerian, zalmoxis\n",
      "Topic #5: gammadelta, relypsa, opioids, opioid, erytech, epatientfinder, harbour, abuse, ikeyp, nanovaccine, iti007, fedratinib, prescription, cpg, edico, lsd, aerie, vfmcrp, panoptica, luxturna\n",
      "Topic #6: warp, warp drive, ketamine, drive, fr104, immunic, 4sc, marina, unisys, turing, imprimis, resminostat, yakult, tg1101, esketamine, classes, psc, rank, meek, kalvista\n",
      "Topic #7: opioid, verdine, arx04, indivior, deepmind, kadmon, fit2me, rbp6000, oxstem, waksal, hugo, shp625, azd8601, buprenorphine, omada, blue stream, colombia, rivers, charles rivers, agilux\n",
      "Topic #8: patients, said, drug, million, data, company, new, phase, cancer, trial, year, biotech, clinical, fda, disease, development, study, treatment, research, ceo\n",
      "Topic #9: ema, sleep, lenses, apnea, lens, sleep apnea, rociletinib, cities, staff, gadimian, implant, agency, symfony, visterra, brigatinib, cataract, adocia, aegerion, tecnis, zimmer\n",
      "Topic #10: abbott, alere, uniqure, fix, tinnitus, abbotts, jude, aleres, adocia, fix activity, stent, st jude, olaratumab, amt060, diagnostics, activity, alk, foundationone, erytech, medivations\n",
      "Topic #11: biosimilar, herceptin, jude, aduro, muddy waters, waters, muddy, zinbryta, trastuzumab, crs207, f2g, mylan, synthego, karo, oasmia, biocon, scintilla, celltrion, convatec, dnanexus\n",
      "Topic #12: oncodesign, connected, ser287, micurx, risankizumab, midatech, aliz, chiasma, 3d printing, nativis, printing, healthsuite, setmelanotide, bigfoot, personal health, insulog, ror1, ganaxolone, omarigliptin, azp531\n",
      "Topic #13: darzalex, genmab, macrogenics, ginkgo, allena, cardiamp, hvivo, freehand, biocardia, grnenthal, feeding, abbvie, mazor, imutex, subcutaneous, salvarx, cphgen, arsanis, pd1, gulfo\n",
      "Topic #14: bone therapeutics, peanut, dbv, allergy, aimmune, zika, gs010, nestl, nestl health, allob, gensight, omicia, inflarx, islexa, cytune, viaskin, sustol, lienard, viaskin peanut, bavituximab\n",
      "Topic #15: cuff, rotator, rotator cuff, follicles, smith, medpace, rotation, nephew, smith nephew, tears, kutay, duvelisib, rotation medical, perlara, hair follicles, wound, m2gen, savolitinib, mis, kolding\n",
      "Topic #16: quintiles, ims, ims health, kalobios, cytokinetics, vidra, shkreli, ubs, optune, ideglira, zp4207, koller, chagas, eg1962, cefaly, glucagen, syndros, benznidazole, electrocore, tirasemtiv\n",
      "Topic #17: motif, motif bio, bio, iclaprim, heart, heart failure, martin, adct, novan, draper, helsinn, genome, pten, cro, cardiac, illumina, crt, artios, malin, amryt\n",
      "Topic #18: siemens, decibel, cytomx, cullinan, dotmatics, horama, freeman, emolecules, square, kendall, grey, hearing, healthineers, kendall square, holtzman, prime, armo, exablate, autifony, probody\n",
      "Topic #19: mologen, ascendis, geneuro, strata, vm202, lefitolimod, dbs, cure forward, dpn, pelvic, humaxil8, foster city, bioclinica, dbs therapy, pdx, atmavi, mesh, arisglobal, circuit, aai202\n",
      "()\n"
     ]
    }
   ],
   "source": [
    "from BioTechTopics import Topics\n",
    "t=Topics() #about 2 minutes\n",
    "t.showWordCloud(0)"
   ]
  }
 ],
 "metadata": {
  "kernelspec": {
   "display_name": "Python 2",
   "language": "python",
   "name": "python2"
  },
  "language_info": {
   "codemirror_mode": {
    "name": "ipython",
    "version": 2
   },
   "file_extension": ".py",
   "mimetype": "text/x-python",
   "name": "python",
   "nbconvert_exporter": "python",
   "pygments_lexer": "ipython2",
   "version": "2.7.12"
  }
 },
 "nbformat": 4,
 "nbformat_minor": 2
}
