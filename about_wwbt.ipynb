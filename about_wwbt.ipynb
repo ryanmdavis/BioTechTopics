{
 "cells": [
  {
   "cell_type": "markdown",
   "metadata": {},
   "source": [
    "# Welcome to the about page for Who's Who in Biotech!\n",
    "\n",
    "As a biomedical engineer and healthcare strategy consultant, I often need to quickly identify prominent companies and individuals relevant to a client's business. For example, I may need to understand what companies are aggregating electronic medical record data and how they are monitizing it. Or maybe an immunotherapy client wants an analysis of compteting PD1 inhibitors."
   ]
  }
 ],
 "metadata": {
  "kernelspec": {
   "display_name": "wwbt_pipenv",
   "language": "python",
   "name": "wwbt_pipenv"
  },
  "language_info": {
   "codemirror_mode": {
    "name": "ipython",
    "version": 3
   },
   "file_extension": ".py",
   "mimetype": "text/x-python",
   "name": "python",
   "nbconvert_exporter": "python",
   "pygments_lexer": "ipython3",
   "version": "3.6.4"
  }
 },
 "nbformat": 4,
 "nbformat_minor": 2
}
