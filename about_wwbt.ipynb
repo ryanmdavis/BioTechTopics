{
 "cells": [
  {
   "cell_type": "markdown",
   "metadata": {},
   "source": [
    "# Welcome to the about page for Who's Who in BioTech!\n",
    "As a biomedical engineer and healthcare strategy consultant, I often need to quickly identify important companies and individuals relevant to a client's business. For example, I may need to understand which companies are aggregating electronic medical record data and how they are monitizing it. Or maybe an immunotherapy client wants an list of companies with PD-1 inhibitors in their pipeline (by tomorrow morning of course!).\n",
    "\n",
    "Identifying prominent entities in a given area could take hours of combing through biotech business literature, but what if the search process could be completed in seconds? The need for quick identification of important companies, people, and drugs within the BioTech business literature inspired me to create the app Who's Who in BioTech (WWBT). WWBT uses natural language processing, machine learning, and information retrieval to quickly identify important entities related to the user's query.\n",
    "\n",
    "# How to use WWBT\n",
    "Simply enter a search term (e.g. electronic medical records, PD1, antibiotics, etc.) and you'll see a scatterplot where each dot represents a named entity related to your query. Mouse over the dots to see the named entity and the context in which they were mentioned. Click on the dot to visit the original article where the entity was mentioned.\n",
    "\n",
    "# The dataset\n",
    "38k articles published between 2008-2017 were scraped from FierceBiotech.com\n",
    "\n",
    "# How WWBT works\n",
    "WWBT uses a tf-idf representation of the corpus to identify the articles most related to the user's query. For each article, named entity recognition and TextRank were used to identify the most important people, companies, and drugs within the article. The relevence score (y-axis of the WWBT scatter plot) is the tf-idf score of the article multiplied by the TextRank score of the named entity within that article. Thus WWBT shows the user named entities with a high TextRank score in documents most related to the user's query. WWBT returns the 200 named entities with the highest relevance score.\n",
    "\n",
    "# Packages and applications used\n",
    "Visualization: Bokeh\n",
    "\n",
    "Publishing: Flask, git, github, Heroku, Django, Jinja2\n",
    "\n",
    "Natural language processing: nltk, summa\n",
    "\n",
    "Information retrieval: sklearn (for tf-idf), pandas\n",
    "\n",
    "Web Scraping: Scrapy\n",
    "\n",
    "\n",
    "Thanks for visiting!\n",
    "\n",
    "Ryan M Davis, PhD\n",
    "\n",
    "https://www.linkedin.com/in/ryan-davis-b312a39a/\n",
    "\n",
    "https://whos-who-biotech.herokuapp.com\n"
   ]
  }
 ],
 "metadata": {
  "kernelspec": {
   "display_name": "wwbt_pipenv",
   "language": "python",
   "name": "wwbt_pipenv"
  },
  "language_info": {
   "codemirror_mode": {
    "name": "ipython",
    "version": 3
   },
   "file_extension": ".py",
   "mimetype": "text/x-python",
   "name": "python",
   "nbconvert_exporter": "python",
   "pygments_lexer": "ipython3",
   "version": "3.6.4"
  }
 },
 "nbformat": 4,
 "nbformat_minor": 2
}
